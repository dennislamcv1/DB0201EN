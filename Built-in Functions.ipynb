{
 "cells": [
  {
   "cell_type": "markdown",
   "metadata": {},
   "source": [
    "In the previous lesson you gained an understanding of built-in database functions.\n",
    "\n",
    "Now create and populate the PETSALE table in the database using the attached SQL script, and practice the queries in the previous lesson to solidify your understanding of built-in database functions."
   ]
  },
  {
   "cell_type": "code",
   "execution_count": 1,
   "metadata": {},
   "outputs": [],
   "source": [
    "import numpy as np\n",
    "import pandas as pd\n",
    "import matplotlib.pyplot as plt\n",
    "import seaborn as sns\n",
    "import datetime\n",
    "\n",
    "from datetime import timedelta\n",
    "\n",
    "%matplotlib inline\n",
    "sns.set_style('dark')\n",
    "sns.set(font_scale=1.2)\n",
    "\n",
    "import warnings\n",
    "warnings.filterwarnings('ignore')\n",
    "\n",
    "pd.set_option('display.max_columns',None)\n",
    "pd.set_option('display.max_rows',None)"
   ]
  },
  {
   "cell_type": "markdown",
   "metadata": {},
   "source": [
    "Task 1: Create the INSTRUCTOR table as defined above. Have the ins_id be the primary key, and ensure the lastname and firstname are not null."
   ]
  },
  {
   "cell_type": "code",
   "execution_count": 2,
   "metadata": {},
   "outputs": [],
   "source": [
    "col = {'ID': [], 'ANIMAL': [], 'QUANTITY': [], 'SALEPRICE': [],'SALEDATE': []}"
   ]
  },
  {
   "cell_type": "code",
   "execution_count": 3,
   "metadata": {},
   "outputs": [],
   "source": [
    "petsale = pd.DataFrame(data=col)"
   ]
  },
  {
   "cell_type": "code",
   "execution_count": 4,
   "metadata": {},
   "outputs": [
    {
     "data": {
      "text/html": [
       "<div>\n",
       "<style scoped>\n",
       "    .dataframe tbody tr th:only-of-type {\n",
       "        vertical-align: middle;\n",
       "    }\n",
       "\n",
       "    .dataframe tbody tr th {\n",
       "        vertical-align: top;\n",
       "    }\n",
       "\n",
       "    .dataframe thead th {\n",
       "        text-align: right;\n",
       "    }\n",
       "</style>\n",
       "<table border=\"1\" class=\"dataframe\">\n",
       "  <thead>\n",
       "    <tr style=\"text-align: right;\">\n",
       "      <th></th>\n",
       "      <th>ID</th>\n",
       "      <th>ANIMAL</th>\n",
       "      <th>QUANTITY</th>\n",
       "      <th>SALEPRICE</th>\n",
       "      <th>SALEDATE</th>\n",
       "    </tr>\n",
       "  </thead>\n",
       "  <tbody>\n",
       "  </tbody>\n",
       "</table>\n",
       "</div>"
      ],
      "text/plain": [
       "Empty DataFrame\n",
       "Columns: [ID, ANIMAL, QUANTITY, SALEPRICE, SALEDATE]\n",
       "Index: []"
      ]
     },
     "execution_count": 4,
     "metadata": {},
     "output_type": "execute_result"
    }
   ],
   "source": [
    "petsale"
   ]
  },
  {
   "cell_type": "code",
   "execution_count": 5,
   "metadata": {},
   "outputs": [],
   "source": [
    "animals = {'ID':[1,2,3,4,5,6,7,8,9], \n",
    "           'ANIMAL': ['Cat','Dog','Dog','Parrot','Dog','Hamster','Cat','Goldfish','Dog'], \n",
    "           'QUANTITY': [9,3,1,2,1,6,1,24,2],\n",
    "           'SALEPRICE': [450.09,666.66,100.00,50.00,75.75,60.60,44.44,48.48,2222.22],\n",
    "           'SALEDATE': ['2018-05-29','2018-06-01','2018-06-04','2018-06-04','2018-06-10','2018-06-11','2018-06-11','2018-06-14','2018-06-15']}"
   ]
  },
  {
   "cell_type": "code",
   "execution_count": 6,
   "metadata": {},
   "outputs": [],
   "source": [
    "df2 = pd.DataFrame(animals)"
   ]
  },
  {
   "cell_type": "code",
   "execution_count": 7,
   "metadata": {},
   "outputs": [
    {
     "data": {
      "text/html": [
       "<div>\n",
       "<style scoped>\n",
       "    .dataframe tbody tr th:only-of-type {\n",
       "        vertical-align: middle;\n",
       "    }\n",
       "\n",
       "    .dataframe tbody tr th {\n",
       "        vertical-align: top;\n",
       "    }\n",
       "\n",
       "    .dataframe thead th {\n",
       "        text-align: right;\n",
       "    }\n",
       "</style>\n",
       "<table border=\"1\" class=\"dataframe\">\n",
       "  <thead>\n",
       "    <tr style=\"text-align: right;\">\n",
       "      <th></th>\n",
       "      <th>ID</th>\n",
       "      <th>ANIMAL</th>\n",
       "      <th>QUANTITY</th>\n",
       "      <th>SALEPRICE</th>\n",
       "      <th>SALEDATE</th>\n",
       "    </tr>\n",
       "  </thead>\n",
       "  <tbody>\n",
       "    <tr>\n",
       "      <th>0</th>\n",
       "      <td>1</td>\n",
       "      <td>Cat</td>\n",
       "      <td>9</td>\n",
       "      <td>450.09</td>\n",
       "      <td>2018-05-29</td>\n",
       "    </tr>\n",
       "    <tr>\n",
       "      <th>1</th>\n",
       "      <td>2</td>\n",
       "      <td>Dog</td>\n",
       "      <td>3</td>\n",
       "      <td>666.66</td>\n",
       "      <td>2018-06-01</td>\n",
       "    </tr>\n",
       "    <tr>\n",
       "      <th>2</th>\n",
       "      <td>3</td>\n",
       "      <td>Dog</td>\n",
       "      <td>1</td>\n",
       "      <td>100.00</td>\n",
       "      <td>2018-06-04</td>\n",
       "    </tr>\n",
       "    <tr>\n",
       "      <th>3</th>\n",
       "      <td>4</td>\n",
       "      <td>Parrot</td>\n",
       "      <td>2</td>\n",
       "      <td>50.00</td>\n",
       "      <td>2018-06-04</td>\n",
       "    </tr>\n",
       "    <tr>\n",
       "      <th>4</th>\n",
       "      <td>5</td>\n",
       "      <td>Dog</td>\n",
       "      <td>1</td>\n",
       "      <td>75.75</td>\n",
       "      <td>2018-06-10</td>\n",
       "    </tr>\n",
       "    <tr>\n",
       "      <th>5</th>\n",
       "      <td>6</td>\n",
       "      <td>Hamster</td>\n",
       "      <td>6</td>\n",
       "      <td>60.60</td>\n",
       "      <td>2018-06-11</td>\n",
       "    </tr>\n",
       "    <tr>\n",
       "      <th>6</th>\n",
       "      <td>7</td>\n",
       "      <td>Cat</td>\n",
       "      <td>1</td>\n",
       "      <td>44.44</td>\n",
       "      <td>2018-06-11</td>\n",
       "    </tr>\n",
       "    <tr>\n",
       "      <th>7</th>\n",
       "      <td>8</td>\n",
       "      <td>Goldfish</td>\n",
       "      <td>24</td>\n",
       "      <td>48.48</td>\n",
       "      <td>2018-06-14</td>\n",
       "    </tr>\n",
       "    <tr>\n",
       "      <th>8</th>\n",
       "      <td>9</td>\n",
       "      <td>Dog</td>\n",
       "      <td>2</td>\n",
       "      <td>2222.22</td>\n",
       "      <td>2018-06-15</td>\n",
       "    </tr>\n",
       "  </tbody>\n",
       "</table>\n",
       "</div>"
      ],
      "text/plain": [
       "   ID    ANIMAL  QUANTITY  SALEPRICE    SALEDATE\n",
       "0   1       Cat         9     450.09  2018-05-29\n",
       "1   2       Dog         3     666.66  2018-06-01\n",
       "2   3       Dog         1     100.00  2018-06-04\n",
       "3   4    Parrot         2      50.00  2018-06-04\n",
       "4   5       Dog         1      75.75  2018-06-10\n",
       "5   6   Hamster         6      60.60  2018-06-11\n",
       "6   7       Cat         1      44.44  2018-06-11\n",
       "7   8  Goldfish        24      48.48  2018-06-14\n",
       "8   9       Dog         2    2222.22  2018-06-15"
      ]
     },
     "execution_count": 7,
     "metadata": {},
     "output_type": "execute_result"
    }
   ],
   "source": [
    "df2"
   ]
  },
  {
   "cell_type": "code",
   "execution_count": 8,
   "metadata": {},
   "outputs": [
    {
     "name": "stdout",
     "output_type": "stream",
     "text": [
      "<class 'pandas.core.frame.DataFrame'>\n",
      "RangeIndex: 9 entries, 0 to 8\n",
      "Data columns (total 5 columns):\n",
      " #   Column     Non-Null Count  Dtype  \n",
      "---  ------     --------------  -----  \n",
      " 0   ID         9 non-null      int64  \n",
      " 1   ANIMAL     9 non-null      object \n",
      " 2   QUANTITY   9 non-null      int64  \n",
      " 3   SALEPRICE  9 non-null      float64\n",
      " 4   SALEDATE   9 non-null      object \n",
      "dtypes: float64(1), int64(2), object(2)\n",
      "memory usage: 488.0+ bytes\n"
     ]
    }
   ],
   "source": [
    "df2.info()"
   ]
  },
  {
   "cell_type": "code",
   "execution_count": 9,
   "metadata": {},
   "outputs": [],
   "source": [
    "df2[\"SALEDATE\"] = pd.to_datetime(df2[\"SALEDATE\"])"
   ]
  },
  {
   "cell_type": "code",
   "execution_count": 10,
   "metadata": {},
   "outputs": [
    {
     "data": {
      "text/html": [
       "<div>\n",
       "<style scoped>\n",
       "    .dataframe tbody tr th:only-of-type {\n",
       "        vertical-align: middle;\n",
       "    }\n",
       "\n",
       "    .dataframe tbody tr th {\n",
       "        vertical-align: top;\n",
       "    }\n",
       "\n",
       "    .dataframe thead th {\n",
       "        text-align: right;\n",
       "    }\n",
       "</style>\n",
       "<table border=\"1\" class=\"dataframe\">\n",
       "  <thead>\n",
       "    <tr style=\"text-align: right;\">\n",
       "      <th></th>\n",
       "      <th>ID</th>\n",
       "      <th>ANIMAL</th>\n",
       "      <th>QUANTITY</th>\n",
       "      <th>SALEPRICE</th>\n",
       "      <th>SALEDATE</th>\n",
       "    </tr>\n",
       "  </thead>\n",
       "  <tbody>\n",
       "    <tr>\n",
       "      <th>0</th>\n",
       "      <td>1</td>\n",
       "      <td>Cat</td>\n",
       "      <td>9</td>\n",
       "      <td>450.09</td>\n",
       "      <td>2018-05-29</td>\n",
       "    </tr>\n",
       "    <tr>\n",
       "      <th>1</th>\n",
       "      <td>2</td>\n",
       "      <td>Dog</td>\n",
       "      <td>3</td>\n",
       "      <td>666.66</td>\n",
       "      <td>2018-06-01</td>\n",
       "    </tr>\n",
       "    <tr>\n",
       "      <th>2</th>\n",
       "      <td>3</td>\n",
       "      <td>Dog</td>\n",
       "      <td>1</td>\n",
       "      <td>100.00</td>\n",
       "      <td>2018-06-04</td>\n",
       "    </tr>\n",
       "    <tr>\n",
       "      <th>3</th>\n",
       "      <td>4</td>\n",
       "      <td>Parrot</td>\n",
       "      <td>2</td>\n",
       "      <td>50.00</td>\n",
       "      <td>2018-06-04</td>\n",
       "    </tr>\n",
       "    <tr>\n",
       "      <th>4</th>\n",
       "      <td>5</td>\n",
       "      <td>Dog</td>\n",
       "      <td>1</td>\n",
       "      <td>75.75</td>\n",
       "      <td>2018-06-10</td>\n",
       "    </tr>\n",
       "    <tr>\n",
       "      <th>5</th>\n",
       "      <td>6</td>\n",
       "      <td>Hamster</td>\n",
       "      <td>6</td>\n",
       "      <td>60.60</td>\n",
       "      <td>2018-06-11</td>\n",
       "    </tr>\n",
       "    <tr>\n",
       "      <th>6</th>\n",
       "      <td>7</td>\n",
       "      <td>Cat</td>\n",
       "      <td>1</td>\n",
       "      <td>44.44</td>\n",
       "      <td>2018-06-11</td>\n",
       "    </tr>\n",
       "    <tr>\n",
       "      <th>7</th>\n",
       "      <td>8</td>\n",
       "      <td>Goldfish</td>\n",
       "      <td>24</td>\n",
       "      <td>48.48</td>\n",
       "      <td>2018-06-14</td>\n",
       "    </tr>\n",
       "    <tr>\n",
       "      <th>8</th>\n",
       "      <td>9</td>\n",
       "      <td>Dog</td>\n",
       "      <td>2</td>\n",
       "      <td>2222.22</td>\n",
       "      <td>2018-06-15</td>\n",
       "    </tr>\n",
       "  </tbody>\n",
       "</table>\n",
       "</div>"
      ],
      "text/plain": [
       "   ID    ANIMAL  QUANTITY  SALEPRICE   SALEDATE\n",
       "0   1       Cat         9     450.09 2018-05-29\n",
       "1   2       Dog         3     666.66 2018-06-01\n",
       "2   3       Dog         1     100.00 2018-06-04\n",
       "3   4    Parrot         2      50.00 2018-06-04\n",
       "4   5       Dog         1      75.75 2018-06-10\n",
       "5   6   Hamster         6      60.60 2018-06-11\n",
       "6   7       Cat         1      44.44 2018-06-11\n",
       "7   8  Goldfish        24      48.48 2018-06-14\n",
       "8   9       Dog         2    2222.22 2018-06-15"
      ]
     },
     "execution_count": 10,
     "metadata": {},
     "output_type": "execute_result"
    }
   ],
   "source": [
    "df2"
   ]
  },
  {
   "cell_type": "code",
   "execution_count": 11,
   "metadata": {},
   "outputs": [
    {
     "name": "stdout",
     "output_type": "stream",
     "text": [
      "<class 'pandas.core.frame.DataFrame'>\n",
      "RangeIndex: 9 entries, 0 to 8\n",
      "Data columns (total 5 columns):\n",
      " #   Column     Non-Null Count  Dtype         \n",
      "---  ------     --------------  -----         \n",
      " 0   ID         9 non-null      int64         \n",
      " 1   ANIMAL     9 non-null      object        \n",
      " 2   QUANTITY   9 non-null      int64         \n",
      " 3   SALEPRICE  9 non-null      float64       \n",
      " 4   SALEDATE   9 non-null      datetime64[ns]\n",
      "dtypes: datetime64[ns](1), float64(1), int64(2), object(1)\n",
      "memory usage: 488.0+ bytes\n"
     ]
    }
   ],
   "source": [
    "df2.info()"
   ]
  },
  {
   "cell_type": "markdown",
   "metadata": {},
   "source": [
    "select SUM(SALEPRICE) from PETSALE"
   ]
  },
  {
   "cell_type": "code",
   "execution_count": 12,
   "metadata": {},
   "outputs": [
    {
     "data": {
      "text/plain": [
       "3718.24"
      ]
     },
     "execution_count": 12,
     "metadata": {},
     "output_type": "execute_result"
    }
   ],
   "source": [
    "df2['SALEPRICE'].sum()"
   ]
  },
  {
   "cell_type": "markdown",
   "metadata": {},
   "source": [
    "select SUM(SALEPRICE) AS SUM_OF_SALEPRICE from PETSALE"
   ]
  },
  {
   "cell_type": "code",
   "execution_count": 13,
   "metadata": {},
   "outputs": [
    {
     "data": {
      "text/plain": [
       "3718.24"
      ]
     },
     "execution_count": 13,
     "metadata": {},
     "output_type": "execute_result"
    }
   ],
   "source": [
    "sum_of_saleprice = df2['SALEPRICE'].sum()\n",
    "sum_of_saleprice"
   ]
  },
  {
   "cell_type": "markdown",
   "metadata": {},
   "source": [
    "select MAX(QUANTITY) from PETSALE"
   ]
  },
  {
   "cell_type": "code",
   "execution_count": 14,
   "metadata": {},
   "outputs": [
    {
     "data": {
      "text/plain": [
       "24"
      ]
     },
     "execution_count": 14,
     "metadata": {},
     "output_type": "execute_result"
    }
   ],
   "source": [
    "df2['QUANTITY'].max()"
   ]
  },
  {
   "cell_type": "markdown",
   "metadata": {},
   "source": [
    "select AVG(SALEPRICE) from PETSALE"
   ]
  },
  {
   "cell_type": "code",
   "execution_count": 15,
   "metadata": {},
   "outputs": [
    {
     "data": {
      "text/plain": [
       "413.1377777777777"
      ]
     },
     "execution_count": 15,
     "metadata": {},
     "output_type": "execute_result"
    }
   ],
   "source": [
    "df2[\"SALEPRICE\"].mean()"
   ]
  },
  {
   "cell_type": "markdown",
   "metadata": {},
   "source": [
    "select AVG( SALEPRICE / QUANTITY ) from PETSALE where ANIMAL = 'Dog'"
   ]
  },
  {
   "cell_type": "code",
   "execution_count": 16,
   "metadata": {},
   "outputs": [],
   "source": [
    "df2[\"SQ\"] = df2[\"SALEPRICE\"]/df2[\"QUANTITY\"]"
   ]
  },
  {
   "cell_type": "code",
   "execution_count": 17,
   "metadata": {},
   "outputs": [
    {
     "data": {
      "text/html": [
       "<div>\n",
       "<style scoped>\n",
       "    .dataframe tbody tr th:only-of-type {\n",
       "        vertical-align: middle;\n",
       "    }\n",
       "\n",
       "    .dataframe tbody tr th {\n",
       "        vertical-align: top;\n",
       "    }\n",
       "\n",
       "    .dataframe thead th {\n",
       "        text-align: right;\n",
       "    }\n",
       "</style>\n",
       "<table border=\"1\" class=\"dataframe\">\n",
       "  <thead>\n",
       "    <tr style=\"text-align: right;\">\n",
       "      <th></th>\n",
       "      <th>ID</th>\n",
       "      <th>ANIMAL</th>\n",
       "      <th>QUANTITY</th>\n",
       "      <th>SALEPRICE</th>\n",
       "      <th>SALEDATE</th>\n",
       "      <th>SQ</th>\n",
       "    </tr>\n",
       "  </thead>\n",
       "  <tbody>\n",
       "    <tr>\n",
       "      <th>0</th>\n",
       "      <td>1</td>\n",
       "      <td>Cat</td>\n",
       "      <td>9</td>\n",
       "      <td>450.09</td>\n",
       "      <td>2018-05-29</td>\n",
       "      <td>50.01</td>\n",
       "    </tr>\n",
       "    <tr>\n",
       "      <th>1</th>\n",
       "      <td>2</td>\n",
       "      <td>Dog</td>\n",
       "      <td>3</td>\n",
       "      <td>666.66</td>\n",
       "      <td>2018-06-01</td>\n",
       "      <td>222.22</td>\n",
       "    </tr>\n",
       "    <tr>\n",
       "      <th>2</th>\n",
       "      <td>3</td>\n",
       "      <td>Dog</td>\n",
       "      <td>1</td>\n",
       "      <td>100.00</td>\n",
       "      <td>2018-06-04</td>\n",
       "      <td>100.00</td>\n",
       "    </tr>\n",
       "    <tr>\n",
       "      <th>3</th>\n",
       "      <td>4</td>\n",
       "      <td>Parrot</td>\n",
       "      <td>2</td>\n",
       "      <td>50.00</td>\n",
       "      <td>2018-06-04</td>\n",
       "      <td>25.00</td>\n",
       "    </tr>\n",
       "    <tr>\n",
       "      <th>4</th>\n",
       "      <td>5</td>\n",
       "      <td>Dog</td>\n",
       "      <td>1</td>\n",
       "      <td>75.75</td>\n",
       "      <td>2018-06-10</td>\n",
       "      <td>75.75</td>\n",
       "    </tr>\n",
       "    <tr>\n",
       "      <th>5</th>\n",
       "      <td>6</td>\n",
       "      <td>Hamster</td>\n",
       "      <td>6</td>\n",
       "      <td>60.60</td>\n",
       "      <td>2018-06-11</td>\n",
       "      <td>10.10</td>\n",
       "    </tr>\n",
       "    <tr>\n",
       "      <th>6</th>\n",
       "      <td>7</td>\n",
       "      <td>Cat</td>\n",
       "      <td>1</td>\n",
       "      <td>44.44</td>\n",
       "      <td>2018-06-11</td>\n",
       "      <td>44.44</td>\n",
       "    </tr>\n",
       "    <tr>\n",
       "      <th>7</th>\n",
       "      <td>8</td>\n",
       "      <td>Goldfish</td>\n",
       "      <td>24</td>\n",
       "      <td>48.48</td>\n",
       "      <td>2018-06-14</td>\n",
       "      <td>2.02</td>\n",
       "    </tr>\n",
       "    <tr>\n",
       "      <th>8</th>\n",
       "      <td>9</td>\n",
       "      <td>Dog</td>\n",
       "      <td>2</td>\n",
       "      <td>2222.22</td>\n",
       "      <td>2018-06-15</td>\n",
       "      <td>1111.11</td>\n",
       "    </tr>\n",
       "  </tbody>\n",
       "</table>\n",
       "</div>"
      ],
      "text/plain": [
       "   ID    ANIMAL  QUANTITY  SALEPRICE   SALEDATE       SQ\n",
       "0   1       Cat         9     450.09 2018-05-29    50.01\n",
       "1   2       Dog         3     666.66 2018-06-01   222.22\n",
       "2   3       Dog         1     100.00 2018-06-04   100.00\n",
       "3   4    Parrot         2      50.00 2018-06-04    25.00\n",
       "4   5       Dog         1      75.75 2018-06-10    75.75\n",
       "5   6   Hamster         6      60.60 2018-06-11    10.10\n",
       "6   7       Cat         1      44.44 2018-06-11    44.44\n",
       "7   8  Goldfish        24      48.48 2018-06-14     2.02\n",
       "8   9       Dog         2    2222.22 2018-06-15  1111.11"
      ]
     },
     "execution_count": 17,
     "metadata": {},
     "output_type": "execute_result"
    }
   ],
   "source": [
    "df2"
   ]
  },
  {
   "cell_type": "code",
   "execution_count": 18,
   "metadata": {},
   "outputs": [
    {
     "data": {
      "text/html": [
       "<div>\n",
       "<style scoped>\n",
       "    .dataframe tbody tr th:only-of-type {\n",
       "        vertical-align: middle;\n",
       "    }\n",
       "\n",
       "    .dataframe tbody tr th {\n",
       "        vertical-align: top;\n",
       "    }\n",
       "\n",
       "    .dataframe thead th {\n",
       "        text-align: right;\n",
       "    }\n",
       "</style>\n",
       "<table border=\"1\" class=\"dataframe\">\n",
       "  <thead>\n",
       "    <tr style=\"text-align: right;\">\n",
       "      <th></th>\n",
       "      <th>ID</th>\n",
       "      <th>ANIMAL</th>\n",
       "      <th>QUANTITY</th>\n",
       "      <th>SALEPRICE</th>\n",
       "      <th>SALEDATE</th>\n",
       "      <th>SQ</th>\n",
       "    </tr>\n",
       "  </thead>\n",
       "  <tbody>\n",
       "    <tr>\n",
       "      <th>1</th>\n",
       "      <td>2</td>\n",
       "      <td>Dog</td>\n",
       "      <td>3</td>\n",
       "      <td>666.66</td>\n",
       "      <td>2018-06-01</td>\n",
       "      <td>222.22</td>\n",
       "    </tr>\n",
       "    <tr>\n",
       "      <th>2</th>\n",
       "      <td>3</td>\n",
       "      <td>Dog</td>\n",
       "      <td>1</td>\n",
       "      <td>100.00</td>\n",
       "      <td>2018-06-04</td>\n",
       "      <td>100.00</td>\n",
       "    </tr>\n",
       "    <tr>\n",
       "      <th>4</th>\n",
       "      <td>5</td>\n",
       "      <td>Dog</td>\n",
       "      <td>1</td>\n",
       "      <td>75.75</td>\n",
       "      <td>2018-06-10</td>\n",
       "      <td>75.75</td>\n",
       "    </tr>\n",
       "    <tr>\n",
       "      <th>8</th>\n",
       "      <td>9</td>\n",
       "      <td>Dog</td>\n",
       "      <td>2</td>\n",
       "      <td>2222.22</td>\n",
       "      <td>2018-06-15</td>\n",
       "      <td>1111.11</td>\n",
       "    </tr>\n",
       "  </tbody>\n",
       "</table>\n",
       "</div>"
      ],
      "text/plain": [
       "   ID ANIMAL  QUANTITY  SALEPRICE   SALEDATE       SQ\n",
       "1   2    Dog         3     666.66 2018-06-01   222.22\n",
       "2   3    Dog         1     100.00 2018-06-04   100.00\n",
       "4   5    Dog         1      75.75 2018-06-10    75.75\n",
       "8   9    Dog         2    2222.22 2018-06-15  1111.11"
      ]
     },
     "execution_count": 18,
     "metadata": {},
     "output_type": "execute_result"
    }
   ],
   "source": [
    "df3 = df2[df2['ANIMAL'] == 'Dog']\n",
    "df3"
   ]
  },
  {
   "cell_type": "code",
   "execution_count": 19,
   "metadata": {},
   "outputs": [
    {
     "data": {
      "text/plain": [
       "377.27"
      ]
     },
     "execution_count": 19,
     "metadata": {},
     "output_type": "execute_result"
    }
   ],
   "source": [
    "df3[\"SQ\"].mean()"
   ]
  },
  {
   "cell_type": "markdown",
   "metadata": {},
   "source": [
    "select ROUND(SALEPRICE) from PETSALE"
   ]
  },
  {
   "cell_type": "code",
   "execution_count": 20,
   "metadata": {},
   "outputs": [
    {
     "data": {
      "text/plain": [
       "0     450.0\n",
       "1     667.0\n",
       "2     100.0\n",
       "3      50.0\n",
       "4      76.0\n",
       "5      61.0\n",
       "6      44.0\n",
       "7      48.0\n",
       "8    2222.0\n",
       "Name: SALEPRICE, dtype: float64"
      ]
     },
     "execution_count": 20,
     "metadata": {},
     "output_type": "execute_result"
    }
   ],
   "source": [
    "df2['SALEPRICE'].round(0)"
   ]
  },
  {
   "cell_type": "markdown",
   "metadata": {},
   "source": [
    "select LENGTH(ANIMAL) from PETSALE"
   ]
  },
  {
   "cell_type": "code",
   "execution_count": 21,
   "metadata": {},
   "outputs": [
    {
     "data": {
      "text/plain": [
       "9"
      ]
     },
     "execution_count": 21,
     "metadata": {},
     "output_type": "execute_result"
    }
   ],
   "source": [
    "len(df2[\"ANIMAL\"])"
   ]
  },
  {
   "cell_type": "code",
   "execution_count": 22,
   "metadata": {},
   "outputs": [
    {
     "data": {
      "text/plain": [
       "0         CAT\n",
       "1         DOG\n",
       "2         DOG\n",
       "3      PARROT\n",
       "4         DOG\n",
       "5     HAMSTER\n",
       "6         CAT\n",
       "7    GOLDFISH\n",
       "8         DOG\n",
       "Name: ANIMAL, dtype: object"
      ]
     },
     "execution_count": 22,
     "metadata": {},
     "output_type": "execute_result"
    }
   ],
   "source": [
    "df2[\"ANIMAL\"].str.upper()"
   ]
  },
  {
   "cell_type": "markdown",
   "metadata": {},
   "source": [
    "select DISTINCT(UCASE(ANIMAL)) from PETSALE"
   ]
  },
  {
   "cell_type": "code",
   "execution_count": 23,
   "metadata": {},
   "outputs": [
    {
     "data": {
      "text/plain": [
       "array(['CAT', 'DOG', 'PARROT', 'HAMSTER', 'GOLDFISH'], dtype=object)"
      ]
     },
     "execution_count": 23,
     "metadata": {},
     "output_type": "execute_result"
    }
   ],
   "source": [
    "df2[\"ANIMAL\"].str.upper().unique()"
   ]
  },
  {
   "cell_type": "markdown",
   "metadata": {},
   "source": [
    "select * from PETSALE where LCASE(ANIMAL) = 'cat'"
   ]
  },
  {
   "cell_type": "code",
   "execution_count": 24,
   "metadata": {},
   "outputs": [
    {
     "data": {
      "text/html": [
       "<div>\n",
       "<style scoped>\n",
       "    .dataframe tbody tr th:only-of-type {\n",
       "        vertical-align: middle;\n",
       "    }\n",
       "\n",
       "    .dataframe tbody tr th {\n",
       "        vertical-align: top;\n",
       "    }\n",
       "\n",
       "    .dataframe thead th {\n",
       "        text-align: right;\n",
       "    }\n",
       "</style>\n",
       "<table border=\"1\" class=\"dataframe\">\n",
       "  <thead>\n",
       "    <tr style=\"text-align: right;\">\n",
       "      <th></th>\n",
       "      <th>ID</th>\n",
       "      <th>ANIMAL</th>\n",
       "      <th>QUANTITY</th>\n",
       "      <th>SALEPRICE</th>\n",
       "      <th>SALEDATE</th>\n",
       "      <th>SQ</th>\n",
       "    </tr>\n",
       "  </thead>\n",
       "  <tbody>\n",
       "    <tr>\n",
       "      <th>0</th>\n",
       "      <td>1</td>\n",
       "      <td>Cat</td>\n",
       "      <td>9</td>\n",
       "      <td>450.09</td>\n",
       "      <td>2018-05-29</td>\n",
       "      <td>50.01</td>\n",
       "    </tr>\n",
       "    <tr>\n",
       "      <th>6</th>\n",
       "      <td>7</td>\n",
       "      <td>Cat</td>\n",
       "      <td>1</td>\n",
       "      <td>44.44</td>\n",
       "      <td>2018-06-11</td>\n",
       "      <td>44.44</td>\n",
       "    </tr>\n",
       "  </tbody>\n",
       "</table>\n",
       "</div>"
      ],
      "text/plain": [
       "   ID ANIMAL  QUANTITY  SALEPRICE   SALEDATE     SQ\n",
       "0   1    Cat         9     450.09 2018-05-29  50.01\n",
       "6   7    Cat         1      44.44 2018-06-11  44.44"
      ]
     },
     "execution_count": 24,
     "metadata": {},
     "output_type": "execute_result"
    }
   ],
   "source": [
    "df2[df2[\"ANIMAL\"] == 'Cat']"
   ]
  },
  {
   "cell_type": "markdown",
   "metadata": {},
   "source": [
    "select DAY(SALEDATE) from PETSALE where ANIMAL = 'Cat'"
   ]
  },
  {
   "cell_type": "code",
   "execution_count": 25,
   "metadata": {},
   "outputs": [],
   "source": [
    "df2[\"DAY\"] = df2[\"SALEDATE\"].dt.day"
   ]
  },
  {
   "cell_type": "code",
   "execution_count": 26,
   "metadata": {},
   "outputs": [
    {
     "data": {
      "text/html": [
       "<div>\n",
       "<style scoped>\n",
       "    .dataframe tbody tr th:only-of-type {\n",
       "        vertical-align: middle;\n",
       "    }\n",
       "\n",
       "    .dataframe tbody tr th {\n",
       "        vertical-align: top;\n",
       "    }\n",
       "\n",
       "    .dataframe thead th {\n",
       "        text-align: right;\n",
       "    }\n",
       "</style>\n",
       "<table border=\"1\" class=\"dataframe\">\n",
       "  <thead>\n",
       "    <tr style=\"text-align: right;\">\n",
       "      <th></th>\n",
       "      <th>ID</th>\n",
       "      <th>ANIMAL</th>\n",
       "      <th>QUANTITY</th>\n",
       "      <th>SALEPRICE</th>\n",
       "      <th>SALEDATE</th>\n",
       "      <th>SQ</th>\n",
       "      <th>DAY</th>\n",
       "    </tr>\n",
       "  </thead>\n",
       "  <tbody>\n",
       "    <tr>\n",
       "      <th>0</th>\n",
       "      <td>1</td>\n",
       "      <td>Cat</td>\n",
       "      <td>9</td>\n",
       "      <td>450.09</td>\n",
       "      <td>2018-05-29</td>\n",
       "      <td>50.01</td>\n",
       "      <td>29</td>\n",
       "    </tr>\n",
       "    <tr>\n",
       "      <th>1</th>\n",
       "      <td>2</td>\n",
       "      <td>Dog</td>\n",
       "      <td>3</td>\n",
       "      <td>666.66</td>\n",
       "      <td>2018-06-01</td>\n",
       "      <td>222.22</td>\n",
       "      <td>1</td>\n",
       "    </tr>\n",
       "    <tr>\n",
       "      <th>2</th>\n",
       "      <td>3</td>\n",
       "      <td>Dog</td>\n",
       "      <td>1</td>\n",
       "      <td>100.00</td>\n",
       "      <td>2018-06-04</td>\n",
       "      <td>100.00</td>\n",
       "      <td>4</td>\n",
       "    </tr>\n",
       "    <tr>\n",
       "      <th>3</th>\n",
       "      <td>4</td>\n",
       "      <td>Parrot</td>\n",
       "      <td>2</td>\n",
       "      <td>50.00</td>\n",
       "      <td>2018-06-04</td>\n",
       "      <td>25.00</td>\n",
       "      <td>4</td>\n",
       "    </tr>\n",
       "    <tr>\n",
       "      <th>4</th>\n",
       "      <td>5</td>\n",
       "      <td>Dog</td>\n",
       "      <td>1</td>\n",
       "      <td>75.75</td>\n",
       "      <td>2018-06-10</td>\n",
       "      <td>75.75</td>\n",
       "      <td>10</td>\n",
       "    </tr>\n",
       "    <tr>\n",
       "      <th>5</th>\n",
       "      <td>6</td>\n",
       "      <td>Hamster</td>\n",
       "      <td>6</td>\n",
       "      <td>60.60</td>\n",
       "      <td>2018-06-11</td>\n",
       "      <td>10.10</td>\n",
       "      <td>11</td>\n",
       "    </tr>\n",
       "    <tr>\n",
       "      <th>6</th>\n",
       "      <td>7</td>\n",
       "      <td>Cat</td>\n",
       "      <td>1</td>\n",
       "      <td>44.44</td>\n",
       "      <td>2018-06-11</td>\n",
       "      <td>44.44</td>\n",
       "      <td>11</td>\n",
       "    </tr>\n",
       "    <tr>\n",
       "      <th>7</th>\n",
       "      <td>8</td>\n",
       "      <td>Goldfish</td>\n",
       "      <td>24</td>\n",
       "      <td>48.48</td>\n",
       "      <td>2018-06-14</td>\n",
       "      <td>2.02</td>\n",
       "      <td>14</td>\n",
       "    </tr>\n",
       "    <tr>\n",
       "      <th>8</th>\n",
       "      <td>9</td>\n",
       "      <td>Dog</td>\n",
       "      <td>2</td>\n",
       "      <td>2222.22</td>\n",
       "      <td>2018-06-15</td>\n",
       "      <td>1111.11</td>\n",
       "      <td>15</td>\n",
       "    </tr>\n",
       "  </tbody>\n",
       "</table>\n",
       "</div>"
      ],
      "text/plain": [
       "   ID    ANIMAL  QUANTITY  SALEPRICE   SALEDATE       SQ  DAY\n",
       "0   1       Cat         9     450.09 2018-05-29    50.01   29\n",
       "1   2       Dog         3     666.66 2018-06-01   222.22    1\n",
       "2   3       Dog         1     100.00 2018-06-04   100.00    4\n",
       "3   4    Parrot         2      50.00 2018-06-04    25.00    4\n",
       "4   5       Dog         1      75.75 2018-06-10    75.75   10\n",
       "5   6   Hamster         6      60.60 2018-06-11    10.10   11\n",
       "6   7       Cat         1      44.44 2018-06-11    44.44   11\n",
       "7   8  Goldfish        24      48.48 2018-06-14     2.02   14\n",
       "8   9       Dog         2    2222.22 2018-06-15  1111.11   15"
      ]
     },
     "execution_count": 26,
     "metadata": {},
     "output_type": "execute_result"
    }
   ],
   "source": [
    "df2"
   ]
  },
  {
   "cell_type": "code",
   "execution_count": 27,
   "metadata": {},
   "outputs": [],
   "source": [
    "df2[\"MONTH\"] = df2[\"SALEDATE\"].dt.month"
   ]
  },
  {
   "cell_type": "code",
   "execution_count": 28,
   "metadata": {},
   "outputs": [
    {
     "data": {
      "text/html": [
       "<div>\n",
       "<style scoped>\n",
       "    .dataframe tbody tr th:only-of-type {\n",
       "        vertical-align: middle;\n",
       "    }\n",
       "\n",
       "    .dataframe tbody tr th {\n",
       "        vertical-align: top;\n",
       "    }\n",
       "\n",
       "    .dataframe thead th {\n",
       "        text-align: right;\n",
       "    }\n",
       "</style>\n",
       "<table border=\"1\" class=\"dataframe\">\n",
       "  <thead>\n",
       "    <tr style=\"text-align: right;\">\n",
       "      <th></th>\n",
       "      <th>ID</th>\n",
       "      <th>ANIMAL</th>\n",
       "      <th>QUANTITY</th>\n",
       "      <th>SALEPRICE</th>\n",
       "      <th>SALEDATE</th>\n",
       "      <th>SQ</th>\n",
       "      <th>DAY</th>\n",
       "      <th>MONTH</th>\n",
       "    </tr>\n",
       "  </thead>\n",
       "  <tbody>\n",
       "    <tr>\n",
       "      <th>0</th>\n",
       "      <td>1</td>\n",
       "      <td>Cat</td>\n",
       "      <td>9</td>\n",
       "      <td>450.09</td>\n",
       "      <td>2018-05-29</td>\n",
       "      <td>50.01</td>\n",
       "      <td>29</td>\n",
       "      <td>5</td>\n",
       "    </tr>\n",
       "    <tr>\n",
       "      <th>1</th>\n",
       "      <td>2</td>\n",
       "      <td>Dog</td>\n",
       "      <td>3</td>\n",
       "      <td>666.66</td>\n",
       "      <td>2018-06-01</td>\n",
       "      <td>222.22</td>\n",
       "      <td>1</td>\n",
       "      <td>6</td>\n",
       "    </tr>\n",
       "    <tr>\n",
       "      <th>2</th>\n",
       "      <td>3</td>\n",
       "      <td>Dog</td>\n",
       "      <td>1</td>\n",
       "      <td>100.00</td>\n",
       "      <td>2018-06-04</td>\n",
       "      <td>100.00</td>\n",
       "      <td>4</td>\n",
       "      <td>6</td>\n",
       "    </tr>\n",
       "    <tr>\n",
       "      <th>3</th>\n",
       "      <td>4</td>\n",
       "      <td>Parrot</td>\n",
       "      <td>2</td>\n",
       "      <td>50.00</td>\n",
       "      <td>2018-06-04</td>\n",
       "      <td>25.00</td>\n",
       "      <td>4</td>\n",
       "      <td>6</td>\n",
       "    </tr>\n",
       "    <tr>\n",
       "      <th>4</th>\n",
       "      <td>5</td>\n",
       "      <td>Dog</td>\n",
       "      <td>1</td>\n",
       "      <td>75.75</td>\n",
       "      <td>2018-06-10</td>\n",
       "      <td>75.75</td>\n",
       "      <td>10</td>\n",
       "      <td>6</td>\n",
       "    </tr>\n",
       "    <tr>\n",
       "      <th>5</th>\n",
       "      <td>6</td>\n",
       "      <td>Hamster</td>\n",
       "      <td>6</td>\n",
       "      <td>60.60</td>\n",
       "      <td>2018-06-11</td>\n",
       "      <td>10.10</td>\n",
       "      <td>11</td>\n",
       "      <td>6</td>\n",
       "    </tr>\n",
       "    <tr>\n",
       "      <th>6</th>\n",
       "      <td>7</td>\n",
       "      <td>Cat</td>\n",
       "      <td>1</td>\n",
       "      <td>44.44</td>\n",
       "      <td>2018-06-11</td>\n",
       "      <td>44.44</td>\n",
       "      <td>11</td>\n",
       "      <td>6</td>\n",
       "    </tr>\n",
       "    <tr>\n",
       "      <th>7</th>\n",
       "      <td>8</td>\n",
       "      <td>Goldfish</td>\n",
       "      <td>24</td>\n",
       "      <td>48.48</td>\n",
       "      <td>2018-06-14</td>\n",
       "      <td>2.02</td>\n",
       "      <td>14</td>\n",
       "      <td>6</td>\n",
       "    </tr>\n",
       "    <tr>\n",
       "      <th>8</th>\n",
       "      <td>9</td>\n",
       "      <td>Dog</td>\n",
       "      <td>2</td>\n",
       "      <td>2222.22</td>\n",
       "      <td>2018-06-15</td>\n",
       "      <td>1111.11</td>\n",
       "      <td>15</td>\n",
       "      <td>6</td>\n",
       "    </tr>\n",
       "  </tbody>\n",
       "</table>\n",
       "</div>"
      ],
      "text/plain": [
       "   ID    ANIMAL  QUANTITY  SALEPRICE   SALEDATE       SQ  DAY  MONTH\n",
       "0   1       Cat         9     450.09 2018-05-29    50.01   29      5\n",
       "1   2       Dog         3     666.66 2018-06-01   222.22    1      6\n",
       "2   3       Dog         1     100.00 2018-06-04   100.00    4      6\n",
       "3   4    Parrot         2      50.00 2018-06-04    25.00    4      6\n",
       "4   5       Dog         1      75.75 2018-06-10    75.75   10      6\n",
       "5   6   Hamster         6      60.60 2018-06-11    10.10   11      6\n",
       "6   7       Cat         1      44.44 2018-06-11    44.44   11      6\n",
       "7   8  Goldfish        24      48.48 2018-06-14     2.02   14      6\n",
       "8   9       Dog         2    2222.22 2018-06-15  1111.11   15      6"
      ]
     },
     "execution_count": 28,
     "metadata": {},
     "output_type": "execute_result"
    }
   ],
   "source": [
    "df2"
   ]
  },
  {
   "cell_type": "code",
   "execution_count": 29,
   "metadata": {},
   "outputs": [
    {
     "data": {
      "text/html": [
       "<div>\n",
       "<style scoped>\n",
       "    .dataframe tbody tr th:only-of-type {\n",
       "        vertical-align: middle;\n",
       "    }\n",
       "\n",
       "    .dataframe tbody tr th {\n",
       "        vertical-align: top;\n",
       "    }\n",
       "\n",
       "    .dataframe thead th {\n",
       "        text-align: right;\n",
       "    }\n",
       "</style>\n",
       "<table border=\"1\" class=\"dataframe\">\n",
       "  <thead>\n",
       "    <tr style=\"text-align: right;\">\n",
       "      <th></th>\n",
       "      <th>ID</th>\n",
       "      <th>ANIMAL</th>\n",
       "      <th>QUANTITY</th>\n",
       "      <th>SALEPRICE</th>\n",
       "      <th>SALEDATE</th>\n",
       "      <th>SQ</th>\n",
       "      <th>DAY</th>\n",
       "      <th>MONTH</th>\n",
       "    </tr>\n",
       "  </thead>\n",
       "  <tbody>\n",
       "    <tr>\n",
       "      <th>0</th>\n",
       "      <td>1</td>\n",
       "      <td>Cat</td>\n",
       "      <td>9</td>\n",
       "      <td>450.09</td>\n",
       "      <td>2018-05-29</td>\n",
       "      <td>50.01</td>\n",
       "      <td>29</td>\n",
       "      <td>5</td>\n",
       "    </tr>\n",
       "    <tr>\n",
       "      <th>6</th>\n",
       "      <td>7</td>\n",
       "      <td>Cat</td>\n",
       "      <td>1</td>\n",
       "      <td>44.44</td>\n",
       "      <td>2018-06-11</td>\n",
       "      <td>44.44</td>\n",
       "      <td>11</td>\n",
       "      <td>6</td>\n",
       "    </tr>\n",
       "  </tbody>\n",
       "</table>\n",
       "</div>"
      ],
      "text/plain": [
       "   ID ANIMAL  QUANTITY  SALEPRICE   SALEDATE     SQ  DAY  MONTH\n",
       "0   1    Cat         9     450.09 2018-05-29  50.01   29      5\n",
       "6   7    Cat         1      44.44 2018-06-11  44.44   11      6"
      ]
     },
     "execution_count": 29,
     "metadata": {},
     "output_type": "execute_result"
    }
   ],
   "source": [
    "df4 = df2[df2[\"ANIMAL\"] == 'Cat']\n",
    "df4"
   ]
  },
  {
   "cell_type": "code",
   "execution_count": 30,
   "metadata": {},
   "outputs": [
    {
     "data": {
      "text/plain": [
       "0    29\n",
       "6    11\n",
       "Name: DAY, dtype: int64"
      ]
     },
     "execution_count": 30,
     "metadata": {},
     "output_type": "execute_result"
    }
   ],
   "source": [
    "df4[\"DAY\"]"
   ]
  },
  {
   "cell_type": "markdown",
   "metadata": {},
   "source": [
    "select COUNT(*) from PETSALE where MONTH(SALEDATE)='05'"
   ]
  },
  {
   "cell_type": "code",
   "execution_count": 31,
   "metadata": {},
   "outputs": [],
   "source": [
    "df5 = df2[df2[\"MONTH\"] == 5]"
   ]
  },
  {
   "cell_type": "code",
   "execution_count": 32,
   "metadata": {},
   "outputs": [
    {
     "data": {
      "text/html": [
       "<div>\n",
       "<style scoped>\n",
       "    .dataframe tbody tr th:only-of-type {\n",
       "        vertical-align: middle;\n",
       "    }\n",
       "\n",
       "    .dataframe tbody tr th {\n",
       "        vertical-align: top;\n",
       "    }\n",
       "\n",
       "    .dataframe thead th {\n",
       "        text-align: right;\n",
       "    }\n",
       "</style>\n",
       "<table border=\"1\" class=\"dataframe\">\n",
       "  <thead>\n",
       "    <tr style=\"text-align: right;\">\n",
       "      <th></th>\n",
       "      <th>ID</th>\n",
       "      <th>ANIMAL</th>\n",
       "      <th>QUANTITY</th>\n",
       "      <th>SALEPRICE</th>\n",
       "      <th>SALEDATE</th>\n",
       "      <th>SQ</th>\n",
       "      <th>DAY</th>\n",
       "      <th>MONTH</th>\n",
       "    </tr>\n",
       "  </thead>\n",
       "  <tbody>\n",
       "    <tr>\n",
       "      <th>0</th>\n",
       "      <td>1</td>\n",
       "      <td>Cat</td>\n",
       "      <td>9</td>\n",
       "      <td>450.09</td>\n",
       "      <td>2018-05-29</td>\n",
       "      <td>50.01</td>\n",
       "      <td>29</td>\n",
       "      <td>5</td>\n",
       "    </tr>\n",
       "  </tbody>\n",
       "</table>\n",
       "</div>"
      ],
      "text/plain": [
       "   ID ANIMAL  QUANTITY  SALEPRICE   SALEDATE     SQ  DAY  MONTH\n",
       "0   1    Cat         9     450.09 2018-05-29  50.01   29      5"
      ]
     },
     "execution_count": 32,
     "metadata": {},
     "output_type": "execute_result"
    }
   ],
   "source": [
    "df5"
   ]
  },
  {
   "cell_type": "code",
   "execution_count": 33,
   "metadata": {},
   "outputs": [
    {
     "data": {
      "text/plain": [
       "ID           1\n",
       "ANIMAL       1\n",
       "QUANTITY     1\n",
       "SALEPRICE    1\n",
       "SALEDATE     1\n",
       "SQ           1\n",
       "DAY          1\n",
       "MONTH        1\n",
       "dtype: int64"
      ]
     },
     "execution_count": 33,
     "metadata": {},
     "output_type": "execute_result"
    }
   ],
   "source": [
    "df5.count()"
   ]
  },
  {
   "cell_type": "markdown",
   "metadata": {},
   "source": [
    "select (SALEDATE + 3 DAYS) from PETSALE"
   ]
  },
  {
   "cell_type": "code",
   "execution_count": 34,
   "metadata": {},
   "outputs": [
    {
     "data": {
      "text/html": [
       "<div>\n",
       "<style scoped>\n",
       "    .dataframe tbody tr th:only-of-type {\n",
       "        vertical-align: middle;\n",
       "    }\n",
       "\n",
       "    .dataframe tbody tr th {\n",
       "        vertical-align: top;\n",
       "    }\n",
       "\n",
       "    .dataframe thead th {\n",
       "        text-align: right;\n",
       "    }\n",
       "</style>\n",
       "<table border=\"1\" class=\"dataframe\">\n",
       "  <thead>\n",
       "    <tr style=\"text-align: right;\">\n",
       "      <th></th>\n",
       "      <th>ID</th>\n",
       "      <th>ANIMAL</th>\n",
       "      <th>QUANTITY</th>\n",
       "      <th>SALEPRICE</th>\n",
       "      <th>SALEDATE</th>\n",
       "      <th>SQ</th>\n",
       "      <th>DAY</th>\n",
       "      <th>MONTH</th>\n",
       "    </tr>\n",
       "  </thead>\n",
       "  <tbody>\n",
       "    <tr>\n",
       "      <th>0</th>\n",
       "      <td>1</td>\n",
       "      <td>Cat</td>\n",
       "      <td>9</td>\n",
       "      <td>450.09</td>\n",
       "      <td>2018-05-29</td>\n",
       "      <td>50.01</td>\n",
       "      <td>29</td>\n",
       "      <td>5</td>\n",
       "    </tr>\n",
       "    <tr>\n",
       "      <th>1</th>\n",
       "      <td>2</td>\n",
       "      <td>Dog</td>\n",
       "      <td>3</td>\n",
       "      <td>666.66</td>\n",
       "      <td>2018-06-01</td>\n",
       "      <td>222.22</td>\n",
       "      <td>1</td>\n",
       "      <td>6</td>\n",
       "    </tr>\n",
       "    <tr>\n",
       "      <th>2</th>\n",
       "      <td>3</td>\n",
       "      <td>Dog</td>\n",
       "      <td>1</td>\n",
       "      <td>100.00</td>\n",
       "      <td>2018-06-04</td>\n",
       "      <td>100.00</td>\n",
       "      <td>4</td>\n",
       "      <td>6</td>\n",
       "    </tr>\n",
       "    <tr>\n",
       "      <th>3</th>\n",
       "      <td>4</td>\n",
       "      <td>Parrot</td>\n",
       "      <td>2</td>\n",
       "      <td>50.00</td>\n",
       "      <td>2018-06-04</td>\n",
       "      <td>25.00</td>\n",
       "      <td>4</td>\n",
       "      <td>6</td>\n",
       "    </tr>\n",
       "    <tr>\n",
       "      <th>4</th>\n",
       "      <td>5</td>\n",
       "      <td>Dog</td>\n",
       "      <td>1</td>\n",
       "      <td>75.75</td>\n",
       "      <td>2018-06-10</td>\n",
       "      <td>75.75</td>\n",
       "      <td>10</td>\n",
       "      <td>6</td>\n",
       "    </tr>\n",
       "    <tr>\n",
       "      <th>5</th>\n",
       "      <td>6</td>\n",
       "      <td>Hamster</td>\n",
       "      <td>6</td>\n",
       "      <td>60.60</td>\n",
       "      <td>2018-06-11</td>\n",
       "      <td>10.10</td>\n",
       "      <td>11</td>\n",
       "      <td>6</td>\n",
       "    </tr>\n",
       "    <tr>\n",
       "      <th>6</th>\n",
       "      <td>7</td>\n",
       "      <td>Cat</td>\n",
       "      <td>1</td>\n",
       "      <td>44.44</td>\n",
       "      <td>2018-06-11</td>\n",
       "      <td>44.44</td>\n",
       "      <td>11</td>\n",
       "      <td>6</td>\n",
       "    </tr>\n",
       "    <tr>\n",
       "      <th>7</th>\n",
       "      <td>8</td>\n",
       "      <td>Goldfish</td>\n",
       "      <td>24</td>\n",
       "      <td>48.48</td>\n",
       "      <td>2018-06-14</td>\n",
       "      <td>2.02</td>\n",
       "      <td>14</td>\n",
       "      <td>6</td>\n",
       "    </tr>\n",
       "    <tr>\n",
       "      <th>8</th>\n",
       "      <td>9</td>\n",
       "      <td>Dog</td>\n",
       "      <td>2</td>\n",
       "      <td>2222.22</td>\n",
       "      <td>2018-06-15</td>\n",
       "      <td>1111.11</td>\n",
       "      <td>15</td>\n",
       "      <td>6</td>\n",
       "    </tr>\n",
       "  </tbody>\n",
       "</table>\n",
       "</div>"
      ],
      "text/plain": [
       "   ID    ANIMAL  QUANTITY  SALEPRICE   SALEDATE       SQ  DAY  MONTH\n",
       "0   1       Cat         9     450.09 2018-05-29    50.01   29      5\n",
       "1   2       Dog         3     666.66 2018-06-01   222.22    1      6\n",
       "2   3       Dog         1     100.00 2018-06-04   100.00    4      6\n",
       "3   4    Parrot         2      50.00 2018-06-04    25.00    4      6\n",
       "4   5       Dog         1      75.75 2018-06-10    75.75   10      6\n",
       "5   6   Hamster         6      60.60 2018-06-11    10.10   11      6\n",
       "6   7       Cat         1      44.44 2018-06-11    44.44   11      6\n",
       "7   8  Goldfish        24      48.48 2018-06-14     2.02   14      6\n",
       "8   9       Dog         2    2222.22 2018-06-15  1111.11   15      6"
      ]
     },
     "execution_count": 34,
     "metadata": {},
     "output_type": "execute_result"
    }
   ],
   "source": [
    "df2"
   ]
  },
  {
   "cell_type": "code",
   "execution_count": 35,
   "metadata": {},
   "outputs": [],
   "source": [
    "df2[\"NEWDATE\"] = df2[\"SALEDATE\"] + pd.DateOffset(n=3)"
   ]
  },
  {
   "cell_type": "code",
   "execution_count": 36,
   "metadata": {},
   "outputs": [
    {
     "data": {
      "text/html": [
       "<div>\n",
       "<style scoped>\n",
       "    .dataframe tbody tr th:only-of-type {\n",
       "        vertical-align: middle;\n",
       "    }\n",
       "\n",
       "    .dataframe tbody tr th {\n",
       "        vertical-align: top;\n",
       "    }\n",
       "\n",
       "    .dataframe thead th {\n",
       "        text-align: right;\n",
       "    }\n",
       "</style>\n",
       "<table border=\"1\" class=\"dataframe\">\n",
       "  <thead>\n",
       "    <tr style=\"text-align: right;\">\n",
       "      <th></th>\n",
       "      <th>ID</th>\n",
       "      <th>ANIMAL</th>\n",
       "      <th>QUANTITY</th>\n",
       "      <th>SALEPRICE</th>\n",
       "      <th>SALEDATE</th>\n",
       "      <th>SQ</th>\n",
       "      <th>DAY</th>\n",
       "      <th>MONTH</th>\n",
       "      <th>NEWDATE</th>\n",
       "    </tr>\n",
       "  </thead>\n",
       "  <tbody>\n",
       "    <tr>\n",
       "      <th>0</th>\n",
       "      <td>1</td>\n",
       "      <td>Cat</td>\n",
       "      <td>9</td>\n",
       "      <td>450.09</td>\n",
       "      <td>2018-05-29</td>\n",
       "      <td>50.01</td>\n",
       "      <td>29</td>\n",
       "      <td>5</td>\n",
       "      <td>2018-06-01</td>\n",
       "    </tr>\n",
       "    <tr>\n",
       "      <th>1</th>\n",
       "      <td>2</td>\n",
       "      <td>Dog</td>\n",
       "      <td>3</td>\n",
       "      <td>666.66</td>\n",
       "      <td>2018-06-01</td>\n",
       "      <td>222.22</td>\n",
       "      <td>1</td>\n",
       "      <td>6</td>\n",
       "      <td>2018-06-04</td>\n",
       "    </tr>\n",
       "    <tr>\n",
       "      <th>2</th>\n",
       "      <td>3</td>\n",
       "      <td>Dog</td>\n",
       "      <td>1</td>\n",
       "      <td>100.00</td>\n",
       "      <td>2018-06-04</td>\n",
       "      <td>100.00</td>\n",
       "      <td>4</td>\n",
       "      <td>6</td>\n",
       "      <td>2018-06-07</td>\n",
       "    </tr>\n",
       "    <tr>\n",
       "      <th>3</th>\n",
       "      <td>4</td>\n",
       "      <td>Parrot</td>\n",
       "      <td>2</td>\n",
       "      <td>50.00</td>\n",
       "      <td>2018-06-04</td>\n",
       "      <td>25.00</td>\n",
       "      <td>4</td>\n",
       "      <td>6</td>\n",
       "      <td>2018-06-07</td>\n",
       "    </tr>\n",
       "    <tr>\n",
       "      <th>4</th>\n",
       "      <td>5</td>\n",
       "      <td>Dog</td>\n",
       "      <td>1</td>\n",
       "      <td>75.75</td>\n",
       "      <td>2018-06-10</td>\n",
       "      <td>75.75</td>\n",
       "      <td>10</td>\n",
       "      <td>6</td>\n",
       "      <td>2018-06-13</td>\n",
       "    </tr>\n",
       "    <tr>\n",
       "      <th>5</th>\n",
       "      <td>6</td>\n",
       "      <td>Hamster</td>\n",
       "      <td>6</td>\n",
       "      <td>60.60</td>\n",
       "      <td>2018-06-11</td>\n",
       "      <td>10.10</td>\n",
       "      <td>11</td>\n",
       "      <td>6</td>\n",
       "      <td>2018-06-14</td>\n",
       "    </tr>\n",
       "    <tr>\n",
       "      <th>6</th>\n",
       "      <td>7</td>\n",
       "      <td>Cat</td>\n",
       "      <td>1</td>\n",
       "      <td>44.44</td>\n",
       "      <td>2018-06-11</td>\n",
       "      <td>44.44</td>\n",
       "      <td>11</td>\n",
       "      <td>6</td>\n",
       "      <td>2018-06-14</td>\n",
       "    </tr>\n",
       "    <tr>\n",
       "      <th>7</th>\n",
       "      <td>8</td>\n",
       "      <td>Goldfish</td>\n",
       "      <td>24</td>\n",
       "      <td>48.48</td>\n",
       "      <td>2018-06-14</td>\n",
       "      <td>2.02</td>\n",
       "      <td>14</td>\n",
       "      <td>6</td>\n",
       "      <td>2018-06-17</td>\n",
       "    </tr>\n",
       "    <tr>\n",
       "      <th>8</th>\n",
       "      <td>9</td>\n",
       "      <td>Dog</td>\n",
       "      <td>2</td>\n",
       "      <td>2222.22</td>\n",
       "      <td>2018-06-15</td>\n",
       "      <td>1111.11</td>\n",
       "      <td>15</td>\n",
       "      <td>6</td>\n",
       "      <td>2018-06-18</td>\n",
       "    </tr>\n",
       "  </tbody>\n",
       "</table>\n",
       "</div>"
      ],
      "text/plain": [
       "   ID    ANIMAL  QUANTITY  SALEPRICE   SALEDATE       SQ  DAY  MONTH  \\\n",
       "0   1       Cat         9     450.09 2018-05-29    50.01   29      5   \n",
       "1   2       Dog         3     666.66 2018-06-01   222.22    1      6   \n",
       "2   3       Dog         1     100.00 2018-06-04   100.00    4      6   \n",
       "3   4    Parrot         2      50.00 2018-06-04    25.00    4      6   \n",
       "4   5       Dog         1      75.75 2018-06-10    75.75   10      6   \n",
       "5   6   Hamster         6      60.60 2018-06-11    10.10   11      6   \n",
       "6   7       Cat         1      44.44 2018-06-11    44.44   11      6   \n",
       "7   8  Goldfish        24      48.48 2018-06-14     2.02   14      6   \n",
       "8   9       Dog         2    2222.22 2018-06-15  1111.11   15      6   \n",
       "\n",
       "     NEWDATE  \n",
       "0 2018-06-01  \n",
       "1 2018-06-04  \n",
       "2 2018-06-07  \n",
       "3 2018-06-07  \n",
       "4 2018-06-13  \n",
       "5 2018-06-14  \n",
       "6 2018-06-14  \n",
       "7 2018-06-17  \n",
       "8 2018-06-18  "
      ]
     },
     "execution_count": 36,
     "metadata": {},
     "output_type": "execute_result"
    }
   ],
   "source": [
    "df2"
   ]
  },
  {
   "cell_type": "markdown",
   "metadata": {},
   "source": [
    "select (CURRENT DATE - SALEDATE) from PETSALE"
   ]
  },
  {
   "cell_type": "code",
   "execution_count": 37,
   "metadata": {},
   "outputs": [],
   "source": [
    "df2[\"CURRENTDATE\"] = pd.to_datetime(\"today\").date()"
   ]
  },
  {
   "cell_type": "code",
   "execution_count": 38,
   "metadata": {},
   "outputs": [
    {
     "data": {
      "text/html": [
       "<div>\n",
       "<style scoped>\n",
       "    .dataframe tbody tr th:only-of-type {\n",
       "        vertical-align: middle;\n",
       "    }\n",
       "\n",
       "    .dataframe tbody tr th {\n",
       "        vertical-align: top;\n",
       "    }\n",
       "\n",
       "    .dataframe thead th {\n",
       "        text-align: right;\n",
       "    }\n",
       "</style>\n",
       "<table border=\"1\" class=\"dataframe\">\n",
       "  <thead>\n",
       "    <tr style=\"text-align: right;\">\n",
       "      <th></th>\n",
       "      <th>ID</th>\n",
       "      <th>ANIMAL</th>\n",
       "      <th>QUANTITY</th>\n",
       "      <th>SALEPRICE</th>\n",
       "      <th>SALEDATE</th>\n",
       "      <th>SQ</th>\n",
       "      <th>DAY</th>\n",
       "      <th>MONTH</th>\n",
       "      <th>NEWDATE</th>\n",
       "      <th>CURRENTDATE</th>\n",
       "    </tr>\n",
       "  </thead>\n",
       "  <tbody>\n",
       "    <tr>\n",
       "      <th>0</th>\n",
       "      <td>1</td>\n",
       "      <td>Cat</td>\n",
       "      <td>9</td>\n",
       "      <td>450.09</td>\n",
       "      <td>2018-05-29</td>\n",
       "      <td>50.01</td>\n",
       "      <td>29</td>\n",
       "      <td>5</td>\n",
       "      <td>2018-06-01</td>\n",
       "      <td>2020-07-20</td>\n",
       "    </tr>\n",
       "    <tr>\n",
       "      <th>1</th>\n",
       "      <td>2</td>\n",
       "      <td>Dog</td>\n",
       "      <td>3</td>\n",
       "      <td>666.66</td>\n",
       "      <td>2018-06-01</td>\n",
       "      <td>222.22</td>\n",
       "      <td>1</td>\n",
       "      <td>6</td>\n",
       "      <td>2018-06-04</td>\n",
       "      <td>2020-07-20</td>\n",
       "    </tr>\n",
       "    <tr>\n",
       "      <th>2</th>\n",
       "      <td>3</td>\n",
       "      <td>Dog</td>\n",
       "      <td>1</td>\n",
       "      <td>100.00</td>\n",
       "      <td>2018-06-04</td>\n",
       "      <td>100.00</td>\n",
       "      <td>4</td>\n",
       "      <td>6</td>\n",
       "      <td>2018-06-07</td>\n",
       "      <td>2020-07-20</td>\n",
       "    </tr>\n",
       "    <tr>\n",
       "      <th>3</th>\n",
       "      <td>4</td>\n",
       "      <td>Parrot</td>\n",
       "      <td>2</td>\n",
       "      <td>50.00</td>\n",
       "      <td>2018-06-04</td>\n",
       "      <td>25.00</td>\n",
       "      <td>4</td>\n",
       "      <td>6</td>\n",
       "      <td>2018-06-07</td>\n",
       "      <td>2020-07-20</td>\n",
       "    </tr>\n",
       "    <tr>\n",
       "      <th>4</th>\n",
       "      <td>5</td>\n",
       "      <td>Dog</td>\n",
       "      <td>1</td>\n",
       "      <td>75.75</td>\n",
       "      <td>2018-06-10</td>\n",
       "      <td>75.75</td>\n",
       "      <td>10</td>\n",
       "      <td>6</td>\n",
       "      <td>2018-06-13</td>\n",
       "      <td>2020-07-20</td>\n",
       "    </tr>\n",
       "    <tr>\n",
       "      <th>5</th>\n",
       "      <td>6</td>\n",
       "      <td>Hamster</td>\n",
       "      <td>6</td>\n",
       "      <td>60.60</td>\n",
       "      <td>2018-06-11</td>\n",
       "      <td>10.10</td>\n",
       "      <td>11</td>\n",
       "      <td>6</td>\n",
       "      <td>2018-06-14</td>\n",
       "      <td>2020-07-20</td>\n",
       "    </tr>\n",
       "    <tr>\n",
       "      <th>6</th>\n",
       "      <td>7</td>\n",
       "      <td>Cat</td>\n",
       "      <td>1</td>\n",
       "      <td>44.44</td>\n",
       "      <td>2018-06-11</td>\n",
       "      <td>44.44</td>\n",
       "      <td>11</td>\n",
       "      <td>6</td>\n",
       "      <td>2018-06-14</td>\n",
       "      <td>2020-07-20</td>\n",
       "    </tr>\n",
       "    <tr>\n",
       "      <th>7</th>\n",
       "      <td>8</td>\n",
       "      <td>Goldfish</td>\n",
       "      <td>24</td>\n",
       "      <td>48.48</td>\n",
       "      <td>2018-06-14</td>\n",
       "      <td>2.02</td>\n",
       "      <td>14</td>\n",
       "      <td>6</td>\n",
       "      <td>2018-06-17</td>\n",
       "      <td>2020-07-20</td>\n",
       "    </tr>\n",
       "    <tr>\n",
       "      <th>8</th>\n",
       "      <td>9</td>\n",
       "      <td>Dog</td>\n",
       "      <td>2</td>\n",
       "      <td>2222.22</td>\n",
       "      <td>2018-06-15</td>\n",
       "      <td>1111.11</td>\n",
       "      <td>15</td>\n",
       "      <td>6</td>\n",
       "      <td>2018-06-18</td>\n",
       "      <td>2020-07-20</td>\n",
       "    </tr>\n",
       "  </tbody>\n",
       "</table>\n",
       "</div>"
      ],
      "text/plain": [
       "   ID    ANIMAL  QUANTITY  SALEPRICE   SALEDATE       SQ  DAY  MONTH  \\\n",
       "0   1       Cat         9     450.09 2018-05-29    50.01   29      5   \n",
       "1   2       Dog         3     666.66 2018-06-01   222.22    1      6   \n",
       "2   3       Dog         1     100.00 2018-06-04   100.00    4      6   \n",
       "3   4    Parrot         2      50.00 2018-06-04    25.00    4      6   \n",
       "4   5       Dog         1      75.75 2018-06-10    75.75   10      6   \n",
       "5   6   Hamster         6      60.60 2018-06-11    10.10   11      6   \n",
       "6   7       Cat         1      44.44 2018-06-11    44.44   11      6   \n",
       "7   8  Goldfish        24      48.48 2018-06-14     2.02   14      6   \n",
       "8   9       Dog         2    2222.22 2018-06-15  1111.11   15      6   \n",
       "\n",
       "     NEWDATE CURRENTDATE  \n",
       "0 2018-06-01  2020-07-20  \n",
       "1 2018-06-04  2020-07-20  \n",
       "2 2018-06-07  2020-07-20  \n",
       "3 2018-06-07  2020-07-20  \n",
       "4 2018-06-13  2020-07-20  \n",
       "5 2018-06-14  2020-07-20  \n",
       "6 2018-06-14  2020-07-20  \n",
       "7 2018-06-17  2020-07-20  \n",
       "8 2018-06-18  2020-07-20  "
      ]
     },
     "execution_count": 38,
     "metadata": {},
     "output_type": "execute_result"
    }
   ],
   "source": [
    "df2"
   ]
  },
  {
   "cell_type": "code",
   "execution_count": 39,
   "metadata": {},
   "outputs": [
    {
     "name": "stdout",
     "output_type": "stream",
     "text": [
      "<class 'pandas.core.frame.DataFrame'>\n",
      "RangeIndex: 9 entries, 0 to 8\n",
      "Data columns (total 10 columns):\n",
      " #   Column       Non-Null Count  Dtype         \n",
      "---  ------       --------------  -----         \n",
      " 0   ID           9 non-null      int64         \n",
      " 1   ANIMAL       9 non-null      object        \n",
      " 2   QUANTITY     9 non-null      int64         \n",
      " 3   SALEPRICE    9 non-null      float64       \n",
      " 4   SALEDATE     9 non-null      datetime64[ns]\n",
      " 5   SQ           9 non-null      float64       \n",
      " 6   DAY          9 non-null      int64         \n",
      " 7   MONTH        9 non-null      int64         \n",
      " 8   NEWDATE      9 non-null      datetime64[ns]\n",
      " 9   CURRENTDATE  9 non-null      object        \n",
      "dtypes: datetime64[ns](2), float64(2), int64(4), object(2)\n",
      "memory usage: 848.0+ bytes\n"
     ]
    }
   ],
   "source": [
    "df2.info()"
   ]
  },
  {
   "cell_type": "code",
   "execution_count": 40,
   "metadata": {},
   "outputs": [],
   "source": [
    "df2[\"CURRENTDATE\"] = pd.to_datetime(df2[\"CURRENTDATE\"])"
   ]
  },
  {
   "cell_type": "code",
   "execution_count": 41,
   "metadata": {},
   "outputs": [
    {
     "name": "stdout",
     "output_type": "stream",
     "text": [
      "<class 'pandas.core.frame.DataFrame'>\n",
      "RangeIndex: 9 entries, 0 to 8\n",
      "Data columns (total 10 columns):\n",
      " #   Column       Non-Null Count  Dtype         \n",
      "---  ------       --------------  -----         \n",
      " 0   ID           9 non-null      int64         \n",
      " 1   ANIMAL       9 non-null      object        \n",
      " 2   QUANTITY     9 non-null      int64         \n",
      " 3   SALEPRICE    9 non-null      float64       \n",
      " 4   SALEDATE     9 non-null      datetime64[ns]\n",
      " 5   SQ           9 non-null      float64       \n",
      " 6   DAY          9 non-null      int64         \n",
      " 7   MONTH        9 non-null      int64         \n",
      " 8   NEWDATE      9 non-null      datetime64[ns]\n",
      " 9   CURRENTDATE  9 non-null      datetime64[ns]\n",
      "dtypes: datetime64[ns](3), float64(2), int64(4), object(1)\n",
      "memory usage: 848.0+ bytes\n"
     ]
    }
   ],
   "source": [
    "df2.info()"
   ]
  },
  {
   "cell_type": "code",
   "execution_count": 42,
   "metadata": {},
   "outputs": [],
   "source": [
    "df2[\"DIFFDATE\"] = df2[\"CURRENTDATE\"] -  df2[\"SALEDATE\"]"
   ]
  },
  {
   "cell_type": "code",
   "execution_count": 43,
   "metadata": {},
   "outputs": [
    {
     "data": {
      "text/html": [
       "<div>\n",
       "<style scoped>\n",
       "    .dataframe tbody tr th:only-of-type {\n",
       "        vertical-align: middle;\n",
       "    }\n",
       "\n",
       "    .dataframe tbody tr th {\n",
       "        vertical-align: top;\n",
       "    }\n",
       "\n",
       "    .dataframe thead th {\n",
       "        text-align: right;\n",
       "    }\n",
       "</style>\n",
       "<table border=\"1\" class=\"dataframe\">\n",
       "  <thead>\n",
       "    <tr style=\"text-align: right;\">\n",
       "      <th></th>\n",
       "      <th>ID</th>\n",
       "      <th>ANIMAL</th>\n",
       "      <th>QUANTITY</th>\n",
       "      <th>SALEPRICE</th>\n",
       "      <th>SALEDATE</th>\n",
       "      <th>SQ</th>\n",
       "      <th>DAY</th>\n",
       "      <th>MONTH</th>\n",
       "      <th>NEWDATE</th>\n",
       "      <th>CURRENTDATE</th>\n",
       "      <th>DIFFDATE</th>\n",
       "    </tr>\n",
       "  </thead>\n",
       "  <tbody>\n",
       "    <tr>\n",
       "      <th>0</th>\n",
       "      <td>1</td>\n",
       "      <td>Cat</td>\n",
       "      <td>9</td>\n",
       "      <td>450.09</td>\n",
       "      <td>2018-05-29</td>\n",
       "      <td>50.01</td>\n",
       "      <td>29</td>\n",
       "      <td>5</td>\n",
       "      <td>2018-06-01</td>\n",
       "      <td>2020-07-20</td>\n",
       "      <td>783 days</td>\n",
       "    </tr>\n",
       "    <tr>\n",
       "      <th>1</th>\n",
       "      <td>2</td>\n",
       "      <td>Dog</td>\n",
       "      <td>3</td>\n",
       "      <td>666.66</td>\n",
       "      <td>2018-06-01</td>\n",
       "      <td>222.22</td>\n",
       "      <td>1</td>\n",
       "      <td>6</td>\n",
       "      <td>2018-06-04</td>\n",
       "      <td>2020-07-20</td>\n",
       "      <td>780 days</td>\n",
       "    </tr>\n",
       "    <tr>\n",
       "      <th>2</th>\n",
       "      <td>3</td>\n",
       "      <td>Dog</td>\n",
       "      <td>1</td>\n",
       "      <td>100.00</td>\n",
       "      <td>2018-06-04</td>\n",
       "      <td>100.00</td>\n",
       "      <td>4</td>\n",
       "      <td>6</td>\n",
       "      <td>2018-06-07</td>\n",
       "      <td>2020-07-20</td>\n",
       "      <td>777 days</td>\n",
       "    </tr>\n",
       "    <tr>\n",
       "      <th>3</th>\n",
       "      <td>4</td>\n",
       "      <td>Parrot</td>\n",
       "      <td>2</td>\n",
       "      <td>50.00</td>\n",
       "      <td>2018-06-04</td>\n",
       "      <td>25.00</td>\n",
       "      <td>4</td>\n",
       "      <td>6</td>\n",
       "      <td>2018-06-07</td>\n",
       "      <td>2020-07-20</td>\n",
       "      <td>777 days</td>\n",
       "    </tr>\n",
       "    <tr>\n",
       "      <th>4</th>\n",
       "      <td>5</td>\n",
       "      <td>Dog</td>\n",
       "      <td>1</td>\n",
       "      <td>75.75</td>\n",
       "      <td>2018-06-10</td>\n",
       "      <td>75.75</td>\n",
       "      <td>10</td>\n",
       "      <td>6</td>\n",
       "      <td>2018-06-13</td>\n",
       "      <td>2020-07-20</td>\n",
       "      <td>771 days</td>\n",
       "    </tr>\n",
       "    <tr>\n",
       "      <th>5</th>\n",
       "      <td>6</td>\n",
       "      <td>Hamster</td>\n",
       "      <td>6</td>\n",
       "      <td>60.60</td>\n",
       "      <td>2018-06-11</td>\n",
       "      <td>10.10</td>\n",
       "      <td>11</td>\n",
       "      <td>6</td>\n",
       "      <td>2018-06-14</td>\n",
       "      <td>2020-07-20</td>\n",
       "      <td>770 days</td>\n",
       "    </tr>\n",
       "    <tr>\n",
       "      <th>6</th>\n",
       "      <td>7</td>\n",
       "      <td>Cat</td>\n",
       "      <td>1</td>\n",
       "      <td>44.44</td>\n",
       "      <td>2018-06-11</td>\n",
       "      <td>44.44</td>\n",
       "      <td>11</td>\n",
       "      <td>6</td>\n",
       "      <td>2018-06-14</td>\n",
       "      <td>2020-07-20</td>\n",
       "      <td>770 days</td>\n",
       "    </tr>\n",
       "    <tr>\n",
       "      <th>7</th>\n",
       "      <td>8</td>\n",
       "      <td>Goldfish</td>\n",
       "      <td>24</td>\n",
       "      <td>48.48</td>\n",
       "      <td>2018-06-14</td>\n",
       "      <td>2.02</td>\n",
       "      <td>14</td>\n",
       "      <td>6</td>\n",
       "      <td>2018-06-17</td>\n",
       "      <td>2020-07-20</td>\n",
       "      <td>767 days</td>\n",
       "    </tr>\n",
       "    <tr>\n",
       "      <th>8</th>\n",
       "      <td>9</td>\n",
       "      <td>Dog</td>\n",
       "      <td>2</td>\n",
       "      <td>2222.22</td>\n",
       "      <td>2018-06-15</td>\n",
       "      <td>1111.11</td>\n",
       "      <td>15</td>\n",
       "      <td>6</td>\n",
       "      <td>2018-06-18</td>\n",
       "      <td>2020-07-20</td>\n",
       "      <td>766 days</td>\n",
       "    </tr>\n",
       "  </tbody>\n",
       "</table>\n",
       "</div>"
      ],
      "text/plain": [
       "   ID    ANIMAL  QUANTITY  SALEPRICE   SALEDATE       SQ  DAY  MONTH  \\\n",
       "0   1       Cat         9     450.09 2018-05-29    50.01   29      5   \n",
       "1   2       Dog         3     666.66 2018-06-01   222.22    1      6   \n",
       "2   3       Dog         1     100.00 2018-06-04   100.00    4      6   \n",
       "3   4    Parrot         2      50.00 2018-06-04    25.00    4      6   \n",
       "4   5       Dog         1      75.75 2018-06-10    75.75   10      6   \n",
       "5   6   Hamster         6      60.60 2018-06-11    10.10   11      6   \n",
       "6   7       Cat         1      44.44 2018-06-11    44.44   11      6   \n",
       "7   8  Goldfish        24      48.48 2018-06-14     2.02   14      6   \n",
       "8   9       Dog         2    2222.22 2018-06-15  1111.11   15      6   \n",
       "\n",
       "     NEWDATE CURRENTDATE DIFFDATE  \n",
       "0 2018-06-01  2020-07-20 783 days  \n",
       "1 2018-06-04  2020-07-20 780 days  \n",
       "2 2018-06-07  2020-07-20 777 days  \n",
       "3 2018-06-07  2020-07-20 777 days  \n",
       "4 2018-06-13  2020-07-20 771 days  \n",
       "5 2018-06-14  2020-07-20 770 days  \n",
       "6 2018-06-14  2020-07-20 770 days  \n",
       "7 2018-06-17  2020-07-20 767 days  \n",
       "8 2018-06-18  2020-07-20 766 days  "
      ]
     },
     "execution_count": 43,
     "metadata": {},
     "output_type": "execute_result"
    }
   ],
   "source": [
    "df2"
   ]
  },
  {
   "cell_type": "code",
   "execution_count": null,
   "metadata": {},
   "outputs": [],
   "source": []
  }
 ],
 "metadata": {
  "kernelspec": {
   "display_name": "Python 3",
   "language": "python",
   "name": "python3"
  },
  "language_info": {
   "codemirror_mode": {
    "name": "ipython",
    "version": 3
   },
   "file_extension": ".py",
   "mimetype": "text/x-python",
   "name": "python",
   "nbconvert_exporter": "python",
   "pygments_lexer": "ipython3",
   "version": "3.7.6"
  }
 },
 "nbformat": 4,
 "nbformat_minor": 4
}
